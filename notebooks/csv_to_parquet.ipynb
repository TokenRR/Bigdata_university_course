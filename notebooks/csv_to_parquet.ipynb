{
 "cells": [
  {
   "cell_type": "code",
   "execution_count": 5,
   "metadata": {},
   "outputs": [],
   "source": [
    "import pandas as pd\n",
    "import pyarrow as pa\n",
    "import pyarrow.parquet as pq\n",
    "import os\n",
    "import gc\n"
   ]
  },
  {
   "cell_type": "code",
   "execution_count": 6,
   "metadata": {},
   "outputs": [],
   "source": [
    "# Встановлюємо шляхи до файлів\n",
    "csv_file_path = '../data/NSDUH_2015-2019.csv'\n",
    "parquet_file_path = '../data/NSDUH_2015-2019.parquet'\n",
    "\n",
    "# Тимчасова директорія для частин\n",
    "temp_dir = '../data/temp_parquet_parts'\n",
    "os.makedirs(temp_dir, exist_ok=True)\n",
    "\n",
    "# Розмір частини (кількість рядків у чанку)\n",
    "chunksize = 50_000\n"
   ]
  },
  {
   "cell_type": "code",
   "execution_count": 7,
   "metadata": {},
   "outputs": [
    {
     "name": "stdout",
     "output_type": "stream",
     "text": [
      "Визначення типів даних...\n"
     ]
    }
   ],
   "source": [
    "# Крок 1: Автоматичне визначення типів даних із допуском змішаних типів\n",
    "print(\"Визначення типів даних...\")\n",
    "sample = pd.read_csv(csv_file_path, nrows=1000)  # Читаємо невеликий приклад\n",
    "dtypes = {}\n",
    "for col in sample.columns:\n",
    "    col_dtype = sample[col].dtype\n",
    "    if col_dtype == \"float64\" or col_dtype == \"int64\":\n",
    "        dtypes[col] = \"float32\"  # Використовуємо float для змішаних числових типів\n",
    "    elif col_dtype == \"object\":\n",
    "        dtypes[col] = \"category\"  # Оптимізація для тексту\n"
   ]
  },
  {
   "cell_type": "code",
   "execution_count": 8,
   "metadata": {},
   "outputs": [
    {
     "name": "stdout",
     "output_type": "stream",
     "text": [
      "CSV файл успішно конвертовано у Parquet: ../data/NSDUH_2015-2019.parquet\n"
     ]
    }
   ],
   "source": [
    "# Крок 2: Поетапне читання та конвертація\n",
    "temp_files = []\n",
    "try:\n",
    "    for i, chunk in enumerate(pd.read_csv(csv_file_path, chunksize=chunksize, dtype=dtypes, low_memory=False)):\n",
    "        # Перетворення в Arrow Table\n",
    "        table = pa.Table.from_pandas(chunk, preserve_index=False)\n",
    "\n",
    "        # Збереження частини у тимчасовий файл\n",
    "        temp_file = os.path.join(temp_dir, f'part_{i}.parquet')\n",
    "        pq.write_table(table, temp_file)\n",
    "        temp_files.append(temp_file)\n",
    "\n",
    "        # Очищення пам'яті\n",
    "        del chunk, table\n",
    "        gc.collect()\n",
    "\n",
    "    # Об'єднання частин\n",
    "    tables = [pq.read_table(temp_file) for temp_file in temp_files]\n",
    "    combined_table = pa.concat_tables(tables)\n",
    "    pq.write_table(combined_table, parquet_file_path)\n",
    "\n",
    "    print(f\"CSV файл успішно конвертовано у Parquet: {parquet_file_path}\")\n",
    "\n",
    "finally:\n",
    "    # Видалення тимчасових файлів\n",
    "    for temp_file in temp_files:\n",
    "        os.remove(temp_file)\n",
    "    os.rmdir(temp_dir)\n"
   ]
  }
 ],
 "metadata": {
  "kernelspec": {
   "display_name": ".venv",
   "language": "python",
   "name": "python3"
  },
  "language_info": {
   "codemirror_mode": {
    "name": "ipython",
    "version": 3
   },
   "file_extension": ".py",
   "mimetype": "text/x-python",
   "name": "python",
   "nbconvert_exporter": "python",
   "pygments_lexer": "ipython3",
   "version": "3.11.3"
  }
 },
 "nbformat": 4,
 "nbformat_minor": 2
}
