{
 "cells": [
  {
   "cell_type": "markdown",
   "metadata": {},
   "source": [
    "### <span style=\"color:#FFD000\">Drugs: cocain, crack, marijuana | Runtime: 2-5 minutes</span>"
   ]
  },
  {
   "cell_type": "markdown",
   "metadata": {},
   "source": [
    "# <span style=\"color:#1477d2\">Imports</span>"
   ]
  },
  {
   "cell_type": "code",
   "execution_count": 1,
   "metadata": {},
   "outputs": [],
   "source": [
    "import time\n",
    "\n",
    "START_TIMER = time.time()\n"
   ]
  },
  {
   "cell_type": "code",
   "execution_count": 2,
   "metadata": {},
   "outputs": [],
   "source": [
    "# Standard library imports\n",
    "import gc\n",
    "import json\n",
    "import os\n",
    "\n",
    "# Third-party imports\n",
    "import joblib\n",
    "import lightgbm as lgb\n",
    "import matplotlib.pyplot as plt\n",
    "import pandas as pd\n",
    "import seaborn as sns\n",
    "import xgboost as xgb\n",
    "\n",
    "from sklearn.compose import ColumnTransformer\n",
    "from sklearn.ensemble import GradientBoostingClassifier, RandomForestClassifier, StackingClassifier\n",
    "from sklearn.linear_model import RidgeClassifier\n",
    "from sklearn.metrics import accuracy_score, f1_score, precision_score, precision_recall_curve, recall_score, roc_curve\n",
    "from sklearn.model_selection import train_test_split\n",
    "from sklearn.pipeline import Pipeline\n",
    "from sklearn.preprocessing import OneHotEncoder, StandardScaler\n"
   ]
  },
  {
   "cell_type": "markdown",
   "metadata": {},
   "source": [
    "# <span style=\"color:#1477d2\">Constants and help functions</span>"
   ]
  },
  {
   "cell_type": "code",
   "execution_count": 3,
   "metadata": {},
   "outputs": [],
   "source": [
    "INPUT_DATA_PATH = '../data/clean_NSDUH_2015-2019.parquet'\n",
    "MODELS_PATH = '../models/'\n",
    "os.makedirs(MODELS_PATH, exist_ok=True)\n",
    "NUMERICAL_COLUMNS = [    # Continuous variables\n",
    "    'iralcfy',           # Number of days alcohol was consumed in the past year\n",
    "    'irmjfy',            # Number of days marijuana was used in the past year\n",
    "    'cig30use',          # Number of days cigarettes were smoked in the past month\n",
    "    'irherfy',           # Number of days heroin was used in the past year\n",
    "    'irmethamyfq',       # Number of days methamphetamine was used in the past year\n",
    "    'wrkdhrswk2',        # Number of hours worked in the past week\n",
    "    'irki17_2',          # Number of children under 18 years old in the household\n",
    "    'irhhsiz2',          # Number of people in the household\n",
    "    'mjrec',             # Time since the last use of marijuana\n",
    "    'smklssrec',         # Time since the last use of smokeless tobacco\n",
    "]\n",
    "CATEGORICAL_COLUMNS = [  # Categorical variables\n",
    "    'newrace2',          # Race or ethnicity of the respondent\n",
    "    'irsex',             # Sex of the respondent\n",
    "    'cig100lf',          # Has smoked at least 100 cigarettes in their lifetime\n",
    "    'catag3',            # Age group of the respondent\n",
    "    'health',            # General health condition of the respondent\n",
    "    'ireduhighst2',      # Highest level of education completed\n",
    "    'irpinc3',           # Income range of the household\n",
    "]\n"
   ]
  },
  {
   "cell_type": "code",
   "execution_count": 4,
   "metadata": {},
   "outputs": [],
   "source": [
    "def clear_memory():\n",
    "    gc.collect()\n"
   ]
  },
  {
   "cell_type": "markdown",
   "metadata": {},
   "source": [
    "# <span style=\"color:#1477d2\">Data preprocessing</span>"
   ]
  },
  {
   "cell_type": "markdown",
   "metadata": {},
   "source": [
    "Перш ніж ми зможемо використовувати наші дані для навчання моделей, нам потрібно зробити кілька речей:\n",
    "1. Вибрати бажані ознаки (`features`)  \n",
    "2. Стандартизувати/нормалізувати числові змінні  \n",
    "3. Перекодувати категоріальні змінні  "
   ]
  },
  {
   "cell_type": "markdown",
   "metadata": {},
   "source": [
    "Почнемо з видалення стовпчиків `crkever`, `cocever`, `mjever` і `year`.  \n",
    "Ці стовпці використовувалися лише для `EDA` та не потрібні для прогнозування."
   ]
  },
  {
   "cell_type": "markdown",
   "metadata": {},
   "source": [
    "### <span style=\"color:#FFD000\">Завантаження даних</span>"
   ]
  },
  {
   "cell_type": "code",
   "execution_count": 5,
   "metadata": {},
   "outputs": [
    {
     "name": "stdout",
     "output_type": "stream",
     "text": [
      "Dataset have: \n",
      "Rows = 133,619 | Columns = 18\n"
     ]
    }
   ],
   "source": [
    "data = pd.read_parquet(INPUT_DATA_PATH)\n",
    "data = data.drop(['crkever', 'cocever', 'mjever', 'year'], axis=1)\n",
    "print(f'Dataset have: \\nRows = {data.shape[0]:,} | Columns = {data.shape[1]}')\n"
   ]
  },
  {
   "cell_type": "code",
   "execution_count": 6,
   "metadata": {},
   "outputs": [
    {
     "data": {
      "text/html": [
       "<div>\n",
       "<style scoped>\n",
       "    .dataframe tbody tr th:only-of-type {\n",
       "        vertical-align: middle;\n",
       "    }\n",
       "\n",
       "    .dataframe tbody tr th {\n",
       "        vertical-align: top;\n",
       "    }\n",
       "\n",
       "    .dataframe thead th {\n",
       "        text-align: right;\n",
       "    }\n",
       "</style>\n",
       "<table border=\"1\" class=\"dataframe\">\n",
       "  <thead>\n",
       "    <tr style=\"text-align: right;\">\n",
       "      <th></th>\n",
       "      <th>iralcfy</th>\n",
       "      <th>catag3</th>\n",
       "      <th>health</th>\n",
       "      <th>ireduhighst2</th>\n",
       "      <th>newrace2</th>\n",
       "      <th>irsex</th>\n",
       "      <th>irpinc3</th>\n",
       "      <th>irki17_2</th>\n",
       "      <th>irmjfy</th>\n",
       "      <th>wrkdhrswk2</th>\n",
       "      <th>irhhsiz2</th>\n",
       "      <th>cig30use</th>\n",
       "      <th>irherfy</th>\n",
       "      <th>irmethamyfq</th>\n",
       "      <th>mjrec</th>\n",
       "      <th>cig100lf</th>\n",
       "      <th>smklssrec</th>\n",
       "      <th>cocaine_crack_marijuana_used</th>\n",
       "    </tr>\n",
       "  </thead>\n",
       "  <tbody>\n",
       "    <tr>\n",
       "      <th>0</th>\n",
       "      <td>52.0</td>\n",
       "      <td>4.0</td>\n",
       "      <td>1.0</td>\n",
       "      <td>8.0</td>\n",
       "      <td>7.0</td>\n",
       "      <td>1.0</td>\n",
       "      <td>2.0</td>\n",
       "      <td>3.0</td>\n",
       "      <td>364.0</td>\n",
       "      <td>40.0</td>\n",
       "      <td>4.0</td>\n",
       "      <td>0.0</td>\n",
       "      <td>0.0</td>\n",
       "      <td>0.0</td>\n",
       "      <td>1.0</td>\n",
       "      <td>1.0</td>\n",
       "      <td>4.0</td>\n",
       "      <td>1.0</td>\n",
       "    </tr>\n",
       "    <tr>\n",
       "      <th>1</th>\n",
       "      <td>0.0</td>\n",
       "      <td>1.0</td>\n",
       "      <td>4.0</td>\n",
       "      <td>6.0</td>\n",
       "      <td>7.0</td>\n",
       "      <td>0.0</td>\n",
       "      <td>1.0</td>\n",
       "      <td>3.0</td>\n",
       "      <td>0.0</td>\n",
       "      <td>27.0</td>\n",
       "      <td>3.0</td>\n",
       "      <td>0.0</td>\n",
       "      <td>0.0</td>\n",
       "      <td>0.0</td>\n",
       "      <td>3.0</td>\n",
       "      <td>0.0</td>\n",
       "      <td>0.0</td>\n",
       "      <td>1.0</td>\n",
       "    </tr>\n",
       "    <tr>\n",
       "      <th>2</th>\n",
       "      <td>52.0</td>\n",
       "      <td>3.0</td>\n",
       "      <td>1.0</td>\n",
       "      <td>10.0</td>\n",
       "      <td>1.0</td>\n",
       "      <td>0.0</td>\n",
       "      <td>4.0</td>\n",
       "      <td>2.0</td>\n",
       "      <td>0.0</td>\n",
       "      <td>38.0</td>\n",
       "      <td>5.0</td>\n",
       "      <td>0.0</td>\n",
       "      <td>0.0</td>\n",
       "      <td>0.0</td>\n",
       "      <td>3.0</td>\n",
       "      <td>0.0</td>\n",
       "      <td>0.0</td>\n",
       "      <td>1.0</td>\n",
       "    </tr>\n",
       "    <tr>\n",
       "      <th>3</th>\n",
       "      <td>24.0</td>\n",
       "      <td>3.0</td>\n",
       "      <td>2.0</td>\n",
       "      <td>9.0</td>\n",
       "      <td>7.0</td>\n",
       "      <td>1.0</td>\n",
       "      <td>4.0</td>\n",
       "      <td>2.0</td>\n",
       "      <td>0.0</td>\n",
       "      <td>40.0</td>\n",
       "      <td>4.0</td>\n",
       "      <td>0.0</td>\n",
       "      <td>0.0</td>\n",
       "      <td>0.0</td>\n",
       "      <td>0.0</td>\n",
       "      <td>1.0</td>\n",
       "      <td>0.0</td>\n",
       "      <td>0.0</td>\n",
       "    </tr>\n",
       "    <tr>\n",
       "      <th>4</th>\n",
       "      <td>0.0</td>\n",
       "      <td>4.0</td>\n",
       "      <td>1.0</td>\n",
       "      <td>2.0</td>\n",
       "      <td>7.0</td>\n",
       "      <td>0.0</td>\n",
       "      <td>2.0</td>\n",
       "      <td>2.0</td>\n",
       "      <td>0.0</td>\n",
       "      <td>35.0</td>\n",
       "      <td>3.0</td>\n",
       "      <td>0.0</td>\n",
       "      <td>0.0</td>\n",
       "      <td>0.0</td>\n",
       "      <td>0.0</td>\n",
       "      <td>0.0</td>\n",
       "      <td>0.0</td>\n",
       "      <td>0.0</td>\n",
       "    </tr>\n",
       "  </tbody>\n",
       "</table>\n",
       "</div>"
      ],
      "text/plain": [
       "   iralcfy  catag3  health  ireduhighst2  newrace2  irsex  irpinc3  irki17_2  \\\n",
       "0     52.0     4.0     1.0           8.0       7.0    1.0      2.0       3.0   \n",
       "1      0.0     1.0     4.0           6.0       7.0    0.0      1.0       3.0   \n",
       "2     52.0     3.0     1.0          10.0       1.0    0.0      4.0       2.0   \n",
       "3     24.0     3.0     2.0           9.0       7.0    1.0      4.0       2.0   \n",
       "4      0.0     4.0     1.0           2.0       7.0    0.0      2.0       2.0   \n",
       "\n",
       "   irmjfy  wrkdhrswk2  irhhsiz2  cig30use  irherfy  irmethamyfq  mjrec  \\\n",
       "0   364.0        40.0       4.0       0.0      0.0          0.0    1.0   \n",
       "1     0.0        27.0       3.0       0.0      0.0          0.0    3.0   \n",
       "2     0.0        38.0       5.0       0.0      0.0          0.0    3.0   \n",
       "3     0.0        40.0       4.0       0.0      0.0          0.0    0.0   \n",
       "4     0.0        35.0       3.0       0.0      0.0          0.0    0.0   \n",
       "\n",
       "   cig100lf  smklssrec  cocaine_crack_marijuana_used  \n",
       "0       1.0        4.0                           1.0  \n",
       "1       0.0        0.0                           1.0  \n",
       "2       0.0        0.0                           1.0  \n",
       "3       1.0        0.0                           0.0  \n",
       "4       0.0        0.0                           0.0  "
      ]
     },
     "execution_count": 6,
     "metadata": {},
     "output_type": "execute_result"
    }
   ],
   "source": [
    "data.head()\n"
   ]
  },
  {
   "cell_type": "markdown",
   "metadata": {},
   "source": [
    "Числові змінні будуть скориговані для кожного стовпчика за допомогою функції StandardScaler(),  \n",
    "яка перетворює дані таким чином, щоб середнє значення та стандартне відхилення для цього стовпчика  \n",
    "дорівнювали 0 та 1 відповідно. Така стандартизація числових змінних підвищує точність нашої моделі.\n",
    "\n",
    "$$x' = \\frac{x - \\mu}{\\sigma}$$"
   ]
  },
  {
   "cell_type": "markdown",
   "metadata": {},
   "source": [
    "### <span style=\"color:#FFD000\">Побудова Pipeline</span>"
   ]
  },
  {
   "cell_type": "code",
   "execution_count": 7,
   "metadata": {},
   "outputs": [
    {
     "data": {
      "text/plain": [
       "['../models/pipeline_V1.pkl']"
      ]
     },
     "execution_count": 7,
     "metadata": {},
     "output_type": "execute_result"
    }
   ],
   "source": [
    "# StandardScaler() applied to NUMERICAL_COLUMNS, and OneHotEncoder() applied to CATEGORICAL_COLUMNS\n",
    "preprocessor = ColumnTransformer(transformers=[('numerical', StandardScaler(), NUMERICAL_COLUMNS), \n",
    "                                               ('categorical', OneHotEncoder(drop='first'), CATEGORICAL_COLUMNS)])\n",
    "\n",
    "# Define pipeline with preprocessing and placeholder for model\n",
    "pipeline = Pipeline(steps=[('preprocessor', preprocessor),\n",
    "                           ('model', 'passthrough')])\n",
    "joblib.dump(pipeline, MODELS_PATH + 'pipeline_V1.pkl') # Save the pipeline\n"
   ]
  },
  {
   "cell_type": "code",
   "execution_count": 8,
   "metadata": {},
   "outputs": [],
   "source": [
    "# # Load the pipeline from the file\n",
    "# loaded_pipeline = joblib.load(pipeline_path)\n",
    "# print(f\"Pipeline loaded from {pipeline_path}\")\n",
    "\n",
    "# # Example usage of the loaded pipeline\n",
    "# X_transformed = loaded_pipeline['preprocessor'].transform(X_test)\n",
    "# print(f\"Transformed X_test shape: {X_transformed.shape}\")\n"
   ]
  },
  {
   "cell_type": "code",
   "execution_count": 9,
   "metadata": {},
   "outputs": [],
   "source": [
    "# Define feature and target columns\n",
    "features = NUMERICAL_COLUMNS + CATEGORICAL_COLUMNS\n",
    "target = 'cocaine_crack_marijuana_used'\n",
    "\n",
    "# Standard naming conventions for feature/test datasets\n",
    "X = data[features]\n",
    "y = data[target]\n"
   ]
  },
  {
   "cell_type": "markdown",
   "metadata": {},
   "source": [
    "### <span style=\"color:#FFD000\">Розділення даних на піднабори</span>"
   ]
  },
  {
   "cell_type": "code",
   "execution_count": 10,
   "metadata": {},
   "outputs": [
    {
     "name": "stdout",
     "output_type": "stream",
     "text": [
      "Before preprocessing: \n",
      "X_train shape: (106895, 17) | y_train shape: (106895,)\n",
      "\n",
      "After preprocessing: \n",
      "X_train shape: (106895, 42) | y_train shape: (106895,)\n"
     ]
    }
   ],
   "source": [
    "# Розділення на навчальний і тестовий набори\n",
    "X_train, X_test, y_train, y_test = train_test_split(X, y, test_size=0.2, random_state=42)\n",
    "print(f'Before preprocessing: \\nX_train shape: {X_train.shape} | y_train shape: {y_train.shape}')\n",
    "\n",
    "# Fit and transform training data, transform test data\n",
    "X_train = preprocessor.fit_transform(X_train)\n",
    "X_test = preprocessor.transform(X_test)\n",
    "print(f'\\nAfter preprocessing: \\nX_train shape: {X_train.shape} | y_train shape: {y_train.shape}')\n",
    "\n",
    "del X, y, data, features, target\n",
    "clear_memory()\n"
   ]
  },
  {
   "cell_type": "markdown",
   "metadata": {},
   "source": [
    "# <span style=\"color:#1477d2\">Models building</span>"
   ]
  },
  {
   "cell_type": "markdown",
   "metadata": {},
   "source": [
    "### <span style=\"color:#FFD000\">Models definitions</span>"
   ]
  },
  {
   "cell_type": "markdown",
   "metadata": {},
   "source": [
    "##### <span style=\"color:#39E75F\">LightGBM model</span>"
   ]
  },
  {
   "cell_type": "code",
   "execution_count": 11,
   "metadata": {},
   "outputs": [],
   "source": [
    "lgb_model = lgb.LGBMClassifier(random_state=42)\n"
   ]
  },
  {
   "cell_type": "markdown",
   "metadata": {},
   "source": [
    "##### <span style=\"color:#39E75F\">XGBoost model</span>"
   ]
  },
  {
   "cell_type": "code",
   "execution_count": 12,
   "metadata": {},
   "outputs": [],
   "source": [
    "xgb_model = xgb.XGBClassifier(use_label_encoder=False, eval_metric='logloss', random_state=42)\n"
   ]
  },
  {
   "cell_type": "markdown",
   "metadata": {},
   "source": [
    "##### <span style=\"color:#39E75F\">Ridge Regression model</span>"
   ]
  },
  {
   "cell_type": "code",
   "execution_count": 13,
   "metadata": {},
   "outputs": [],
   "source": [
    "ridge_model = RidgeClassifier(random_state=42)\n"
   ]
  },
  {
   "cell_type": "markdown",
   "metadata": {},
   "source": [
    "##### <span style=\"color:#39E75F\">Gradient Boosting Classifier model</span>"
   ]
  },
  {
   "cell_type": "code",
   "execution_count": 14,
   "metadata": {},
   "outputs": [],
   "source": [
    "gbc_model = GradientBoostingClassifier(random_state=42)\n"
   ]
  },
  {
   "cell_type": "markdown",
   "metadata": {},
   "source": [
    "##### <span style=\"color:#39E75F\">Random Forest model</span>"
   ]
  },
  {
   "cell_type": "code",
   "execution_count": 15,
   "metadata": {},
   "outputs": [],
   "source": [
    "rf_model = RandomForestClassifier(random_state=42)\n"
   ]
  },
  {
   "cell_type": "markdown",
   "metadata": {},
   "source": [
    "##### <span style=\"color:#39E75F\">Stacking Classifier model</span>"
   ]
  },
  {
   "cell_type": "code",
   "execution_count": 16,
   "metadata": {},
   "outputs": [],
   "source": [
    "stack_model = StackingClassifier(estimators=[('lgb', lgb_model), \n",
    "                                             ('xgb', xgb_model),\n",
    "                                             ('rf', rf_model)], \n",
    "                                 final_estimator=RidgeClassifier(random_state=42))\n"
   ]
  },
  {
   "cell_type": "markdown",
   "metadata": {},
   "source": [
    "### <span style=\"color:#FFD000\">Models training</span>"
   ]
  },
  {
   "cell_type": "markdown",
   "metadata": {},
   "source": [
    "##### <span style=\"color:#39E75F\">LightGBM model</span>"
   ]
  },
  {
   "cell_type": "code",
   "execution_count": 17,
   "metadata": {},
   "outputs": [
    {
     "name": "stdout",
     "output_type": "stream",
     "text": [
      "[LightGBM] [Info] Number of positive: 58906, number of negative: 47989\n",
      "[LightGBM] [Info] Auto-choosing row-wise multi-threading, the overhead of testing was 0.013678 seconds.\n",
      "You can set `force_row_wise=true` to remove the overhead.\n",
      "And if memory is not enough, you can set `force_col_wise=true`.\n",
      "[LightGBM] [Info] Total Bins 636\n",
      "[LightGBM] [Info] Number of data points in the train set: 106895, number of used features: 42\n",
      "[LightGBM] [Info] [binary:BoostFromScore]: pavg=0.551064 -> initscore=0.204971\n",
      "[LightGBM] [Info] Start training from score 0.204971\n",
      "\n",
      " ==============================\n",
      "Model:     LGBMClassifier\n",
      "Accuracy:  0.996932\n",
      "Precision: 0.999931\n",
      "Recall:    0.994462\n",
      "F1-Score:  0.997189\n",
      "==============================\n"
     ]
    }
   ],
   "source": [
    "lgb_model.fit(X_train, y_train)\n",
    "y_pred = lgb_model.predict(X_test)\n",
    "\n",
    "print('\\n', '=' * 30)\n",
    "print(f'Model:     {lgb_model.__class__.__name__}')\n",
    "print(f'Accuracy:  {accuracy_score(y_test, y_pred):.6f}')\n",
    "print(f'Precision: {precision_score(y_test, y_pred):.6f}')\n",
    "print(f'Recall:    {recall_score(y_test, y_pred):.6f}')\n",
    "print(f'F1-Score:  {f1_score(y_test, y_pred):.6f}')\n",
    "print('=' * 30)\n"
   ]
  },
  {
   "cell_type": "markdown",
   "metadata": {},
   "source": [
    "##### <span style=\"color:#39E75F\">XGBoost model</span>"
   ]
  },
  {
   "cell_type": "code",
   "execution_count": 18,
   "metadata": {},
   "outputs": [
    {
     "name": "stderr",
     "output_type": "stream",
     "text": [
      "d:\\KPI\\Big_data_systems\\Project\\.venv\\Lib\\site-packages\\xgboost\\core.py:158: UserWarning: [00:12:39] WARNING: C:\\buildkite-agent\\builds\\buildkite-windows-cpu-autoscaling-group-i-0ed59c031377d09b8-1\\xgboost\\xgboost-ci-windows\\src\\learner.cc:740: \n",
      "Parameters: { \"use_label_encoder\" } are not used.\n",
      "\n",
      "  warnings.warn(smsg, UserWarning)\n"
     ]
    },
    {
     "name": "stdout",
     "output_type": "stream",
     "text": [
      "\n",
      " ==============================\n",
      "Model:     XGBClassifier\n",
      "Accuracy:  0.996857\n",
      "Precision: 0.999794\n",
      "Recall:    0.994462\n",
      "F1-Score:  0.997121\n",
      "==============================\n"
     ]
    }
   ],
   "source": [
    "xgb_model.fit(X_train, y_train)\n",
    "y_pred = xgb_model.predict(X_test)\n",
    "\n",
    "print('\\n', '=' * 30)\n",
    "print(f'Model:     {xgb_model.__class__.__name__}')\n",
    "print(f'Accuracy:  {accuracy_score(y_test, y_pred):.6f}')\n",
    "print(f'Precision: {precision_score(y_test, y_pred):.6f}')\n",
    "print(f'Recall:    {recall_score(y_test, y_pred):.6f}')\n",
    "print(f'F1-Score:  {f1_score(y_test, y_pred):.6f}')\n",
    "print('=' * 30)\n"
   ]
  },
  {
   "cell_type": "markdown",
   "metadata": {},
   "source": [
    "##### <span style=\"color:#39E75F\">Ridge Regression model</span>"
   ]
  },
  {
   "cell_type": "code",
   "execution_count": 19,
   "metadata": {},
   "outputs": [
    {
     "name": "stdout",
     "output_type": "stream",
     "text": [
      "\n",
      " ==============================\n",
      "Model:     RidgeClassifier\n",
      "Accuracy:  0.968867\n",
      "Precision: 1.000000\n",
      "Recall:    0.943119\n",
      "F1-Score:  0.970727\n",
      "==============================\n"
     ]
    }
   ],
   "source": [
    "ridge_model.fit(X_train, y_train)\n",
    "y_pred = ridge_model.predict(X_test)\n",
    "\n",
    "print('\\n', '=' * 30)\n",
    "print(f'Model:     {ridge_model.__class__.__name__}')\n",
    "print(f'Accuracy:  {accuracy_score(y_test, y_pred):.6f}')\n",
    "print(f'Precision: {precision_score(y_test, y_pred):.6f}')\n",
    "print(f'Recall:    {recall_score(y_test, y_pred):.6f}')\n",
    "print(f'F1-Score:  {f1_score(y_test, y_pred):.6f}')\n",
    "print('=' * 30)\n"
   ]
  },
  {
   "cell_type": "markdown",
   "metadata": {},
   "source": [
    "##### <span style=\"color:#39E75F\">Gradient Boosting Classifier model</span>"
   ]
  },
  {
   "cell_type": "code",
   "execution_count": 20,
   "metadata": {},
   "outputs": [
    {
     "name": "stdout",
     "output_type": "stream",
     "text": [
      "\n",
      " ==============================\n",
      "Model:     GradientBoostingClassifier\n",
      "Accuracy:  0.996894\n",
      "Precision: 0.999863\n",
      "Recall:    0.994462\n",
      "F1-Score:  0.997155\n",
      "==============================\n"
     ]
    }
   ],
   "source": [
    "gbc_model.fit(X_train, y_train)\n",
    "y_pred = gbc_model.predict(X_test)\n",
    "\n",
    "print('\\n', '=' * 30)\n",
    "print(f'Model:     {gbc_model.__class__.__name__}')\n",
    "print(f'Accuracy:  {accuracy_score(y_test, y_pred):.6f}')\n",
    "print(f'Precision: {precision_score(y_test, y_pred):.6f}')\n",
    "print(f'Recall:    {recall_score(y_test, y_pred):.6f}')\n",
    "print(f'F1-Score:  {f1_score(y_test, y_pred):.6f}')\n",
    "print('=' * 30)\n"
   ]
  },
  {
   "cell_type": "markdown",
   "metadata": {},
   "source": [
    "##### <span style=\"color:#39E75F\">Random Forest model</span>"
   ]
  },
  {
   "cell_type": "code",
   "execution_count": 21,
   "metadata": {},
   "outputs": [
    {
     "name": "stdout",
     "output_type": "stream",
     "text": [
      "\n",
      " ==============================\n",
      "Model:     RandomForestClassifier\n",
      "Accuracy:  0.996969\n",
      "Precision: 1.000000\n",
      "Recall:    0.994462\n",
      "F1-Score:  0.997223\n",
      "==============================\n"
     ]
    }
   ],
   "source": [
    "rf_model.fit(X_train, y_train)\n",
    "y_pred = rf_model.predict(X_test)\n",
    "\n",
    "print('\\n', '=' * 30)\n",
    "print(f'Model:     {rf_model.__class__.__name__}')\n",
    "print(f'Accuracy:  {accuracy_score(y_test, y_pred):.6f}')\n",
    "print(f'Precision: {precision_score(y_test, y_pred):.6f}')\n",
    "print(f'Recall:    {recall_score(y_test, y_pred):.6f}')\n",
    "print(f'F1-Score:  {f1_score(y_test, y_pred):.6f}')\n",
    "print('=' * 30)\n"
   ]
  },
  {
   "cell_type": "markdown",
   "metadata": {},
   "source": [
    "##### <span style=\"color:#39E75F\">Stacking Classifier model</span>"
   ]
  },
  {
   "cell_type": "code",
   "execution_count": 22,
   "metadata": {},
   "outputs": [
    {
     "name": "stdout",
     "output_type": "stream",
     "text": [
      "[LightGBM] [Info] Number of positive: 58906, number of negative: 47989\n",
      "[LightGBM] [Info] Auto-choosing row-wise multi-threading, the overhead of testing was 0.014698 seconds.\n",
      "You can set `force_row_wise=true` to remove the overhead.\n",
      "And if memory is not enough, you can set `force_col_wise=true`.\n",
      "[LightGBM] [Info] Total Bins 636\n",
      "[LightGBM] [Info] Number of data points in the train set: 106895, number of used features: 42\n",
      "[LightGBM] [Info] [binary:BoostFromScore]: pavg=0.551064 -> initscore=0.204971\n",
      "[LightGBM] [Info] Start training from score 0.204971\n"
     ]
    },
    {
     "name": "stderr",
     "output_type": "stream",
     "text": [
      "d:\\KPI\\Big_data_systems\\Project\\.venv\\Lib\\site-packages\\xgboost\\core.py:158: UserWarning: [00:13:56] WARNING: C:\\buildkite-agent\\builds\\buildkite-windows-cpu-autoscaling-group-i-0ed59c031377d09b8-1\\xgboost\\xgboost-ci-windows\\src\\learner.cc:740: \n",
      "Parameters: { \"use_label_encoder\" } are not used.\n",
      "\n",
      "  warnings.warn(smsg, UserWarning)\n"
     ]
    },
    {
     "name": "stdout",
     "output_type": "stream",
     "text": [
      "[LightGBM] [Info] Number of positive: 47125, number of negative: 38391\n",
      "[LightGBM] [Info] Auto-choosing row-wise multi-threading, the overhead of testing was 0.017566 seconds.\n",
      "You can set `force_row_wise=true` to remove the overhead.\n",
      "And if memory is not enough, you can set `force_col_wise=true`.\n",
      "[LightGBM] [Info] Total Bins 604\n",
      "[LightGBM] [Info] Number of data points in the train set: 85516, number of used features: 42\n",
      "[LightGBM] [Info] [binary:BoostFromScore]: pavg=0.551066 -> initscore=0.204981\n",
      "[LightGBM] [Info] Start training from score 0.204981\n",
      "[LightGBM] [Info] Number of positive: 47125, number of negative: 38391\n",
      "[LightGBM] [Info] Auto-choosing row-wise multi-threading, the overhead of testing was 0.011322 seconds.\n",
      "You can set `force_row_wise=true` to remove the overhead.\n",
      "And if memory is not enough, you can set `force_col_wise=true`.\n",
      "[LightGBM] [Info] Total Bins 591\n",
      "[LightGBM] [Info] Number of data points in the train set: 85516, number of used features: 42\n",
      "[LightGBM] [Info] [binary:BoostFromScore]: pavg=0.551066 -> initscore=0.204981\n",
      "[LightGBM] [Info] Start training from score 0.204981\n",
      "[LightGBM] [Info] Number of positive: 47125, number of negative: 38391\n",
      "[LightGBM] [Info] Auto-choosing row-wise multi-threading, the overhead of testing was 0.014327 seconds.\n",
      "You can set `force_row_wise=true` to remove the overhead.\n",
      "And if memory is not enough, you can set `force_col_wise=true`.\n",
      "[LightGBM] [Info] Total Bins 608\n",
      "[LightGBM] [Info] Number of data points in the train set: 85516, number of used features: 42\n",
      "[LightGBM] [Info] [binary:BoostFromScore]: pavg=0.551066 -> initscore=0.204981\n",
      "[LightGBM] [Info] Start training from score 0.204981\n",
      "[LightGBM] [Info] Number of positive: 47125, number of negative: 38391\n",
      "[LightGBM] [Info] Auto-choosing row-wise multi-threading, the overhead of testing was 0.011806 seconds.\n",
      "You can set `force_row_wise=true` to remove the overhead.\n",
      "And if memory is not enough, you can set `force_col_wise=true`.\n",
      "[LightGBM] [Info] Total Bins 603\n",
      "[LightGBM] [Info] Number of data points in the train set: 85516, number of used features: 42\n",
      "[LightGBM] [Info] [binary:BoostFromScore]: pavg=0.551066 -> initscore=0.204981\n",
      "[LightGBM] [Info] Start training from score 0.204981\n",
      "[LightGBM] [Info] Number of positive: 47124, number of negative: 38392\n",
      "[LightGBM] [Info] Auto-choosing row-wise multi-threading, the overhead of testing was 0.005856 seconds.\n",
      "You can set `force_row_wise=true` to remove the overhead.\n",
      "And if memory is not enough, you can set `force_col_wise=true`.\n",
      "[LightGBM] [Info] Total Bins 604\n",
      "[LightGBM] [Info] Number of data points in the train set: 85516, number of used features: 42\n",
      "[LightGBM] [Info] [binary:BoostFromScore]: pavg=0.551055 -> initscore=0.204933\n",
      "[LightGBM] [Info] Start training from score 0.204933\n"
     ]
    },
    {
     "name": "stderr",
     "output_type": "stream",
     "text": [
      "d:\\KPI\\Big_data_systems\\Project\\.venv\\Lib\\site-packages\\xgboost\\core.py:158: UserWarning: [00:14:21] WARNING: C:\\buildkite-agent\\builds\\buildkite-windows-cpu-autoscaling-group-i-0ed59c031377d09b8-1\\xgboost\\xgboost-ci-windows\\src\\learner.cc:740: \n",
      "Parameters: { \"use_label_encoder\" } are not used.\n",
      "\n",
      "  warnings.warn(smsg, UserWarning)\n",
      "d:\\KPI\\Big_data_systems\\Project\\.venv\\Lib\\site-packages\\xgboost\\core.py:158: UserWarning: [00:14:22] WARNING: C:\\buildkite-agent\\builds\\buildkite-windows-cpu-autoscaling-group-i-0ed59c031377d09b8-1\\xgboost\\xgboost-ci-windows\\src\\learner.cc:740: \n",
      "Parameters: { \"use_label_encoder\" } are not used.\n",
      "\n",
      "  warnings.warn(smsg, UserWarning)\n",
      "d:\\KPI\\Big_data_systems\\Project\\.venv\\Lib\\site-packages\\xgboost\\core.py:158: UserWarning: [00:14:23] WARNING: C:\\buildkite-agent\\builds\\buildkite-windows-cpu-autoscaling-group-i-0ed59c031377d09b8-1\\xgboost\\xgboost-ci-windows\\src\\learner.cc:740: \n",
      "Parameters: { \"use_label_encoder\" } are not used.\n",
      "\n",
      "  warnings.warn(smsg, UserWarning)\n"
     ]
    },
    {
     "name": "stdout",
     "output_type": "stream",
     "text": [
      "\n",
      " ==============================\n",
      "Model:     StackingClassifier\n",
      "Accuracy:  0.996969\n",
      "Precision: 1.000000\n",
      "Recall:    0.994462\n",
      "F1-Score:  0.997223\n",
      "==============================\n"
     ]
    }
   ],
   "source": [
    "stack_model.fit(X_train, y_train)\n",
    "y_pred = stack_model.predict(X_test)\n",
    "\n",
    "print('\\n', '=' * 30)\n",
    "print(f'Model:     {stack_model.__class__.__name__}')\n",
    "print(f'Accuracy:  {accuracy_score(y_test, y_pred):.6f}')\n",
    "print(f'Precision: {precision_score(y_test, y_pred):.6f}')\n",
    "print(f'Recall:    {recall_score(y_test, y_pred):.6f}')\n",
    "print(f'F1-Score:  {f1_score(y_test, y_pred):.6f}')\n",
    "print('=' * 30)\n"
   ]
  },
  {
   "cell_type": "markdown",
   "metadata": {},
   "source": [
    "### <span style=\"color:#FFD000\">Models evaluation</span>"
   ]
  },
  {
   "cell_type": "code",
   "execution_count": 23,
   "metadata": {},
   "outputs": [],
   "source": [
    "results = []\n",
    "models = {'LightGBM': lgb_model,\n",
    "          'XGBoost': xgb_model,\n",
    "          'Ridge': ridge_model,\n",
    "          'Gradient Boosting': gbc_model,\n",
    "          'Random Forest': rf_model,\n",
    "          'Stacking': stack_model}\n"
   ]
  },
  {
   "cell_type": "code",
   "execution_count": 24,
   "metadata": {},
   "outputs": [
    {
     "name": "stdout",
     "output_type": "stream",
     "text": [
      "               Model  Accuracy  Precision    Recall  F1-Score\n",
      "0           LightGBM  0.996932   0.999931  0.994462  0.997189\n",
      "1            XGBoost  0.996857   0.999794  0.994462  0.997121\n",
      "2              Ridge  0.968867   1.000000  0.943119  0.970727\n",
      "3  Gradient Boosting  0.996894   0.999863  0.994462  0.997155\n",
      "4      Random Forest  0.996969   1.000000  0.994462  0.997223\n",
      "5           Stacking  0.996969   1.000000  0.994462  0.997223\n"
     ]
    }
   ],
   "source": [
    "for name, model in models.items():\n",
    "    y_pred = model.predict(X_test)\n",
    "\n",
    "    results.append({'Model': name,\n",
    "                    'Accuracy': accuracy_score(y_test, y_pred),\n",
    "                    'Precision': precision_score(y_test, y_pred),\n",
    "                    'Recall': recall_score(y_test, y_pred), \n",
    "                    'F1-Score': f1_score(y_test, y_pred),\n",
    "                    })\n",
    "\n",
    "print(pd.DataFrame(results))\n"
   ]
  },
  {
   "cell_type": "markdown",
   "metadata": {},
   "source": [
    "### <span style=\"color:#FFD000\">Models saving</span>"
   ]
  },
  {
   "cell_type": "code",
   "execution_count": 25,
   "metadata": {},
   "outputs": [
    {
     "name": "stdout",
     "output_type": "stream",
     "text": [
      "Model LightGBM saved to ../models/LightGBM_V1.pkl\n",
      "Model XGBoost saved to ../models/XGBoost_V1.pkl\n",
      "Model Ridge saved to ../models/Ridge_V1.pkl\n",
      "Model Gradient Boosting saved to ../models/Gradient_Boosting_V1.pkl\n",
      "Model Random Forest saved to ../models/Random_Forest_V1.pkl\n",
      "Model Stacking saved to ../models/Stacking_V1.pkl\n"
     ]
    }
   ],
   "source": [
    "# Save each model in the dictionary\n",
    "for model_name, model in models.items():\n",
    "    model_path = os.path.join(MODELS_PATH, f\"{model_name.replace(' ', '_')}_V1.pkl\")\n",
    "    joblib.dump(model, model_path)\n",
    "    print(f\"Model {model_name} saved to {model_path}\")\n"
   ]
  },
  {
   "cell_type": "code",
   "execution_count": 26,
   "metadata": {},
   "outputs": [],
   "source": [
    "# Save feature columns as a JSON file\n",
    "column_info = {'data_columns': NUMERICAL_COLUMNS + CATEGORICAL_COLUMNS}\n",
    "\n",
    "with open('../models/data_columns.json', 'w') as f:\n",
    "    json.dump(column_info, f)\n",
    "\n",
    "del model_name, model, model_path, column_info\n",
    "clear_memory()\n"
   ]
  },
  {
   "cell_type": "markdown",
   "metadata": {},
   "source": [
    "### <span style=\"color:#FFD000\">Visual comparison</span>"
   ]
  },
  {
   "cell_type": "markdown",
   "metadata": {},
   "source": [
    "##### <span style=\"color:#39E75F\">Accuracy, Precision, Recall, F1-Score</span>"
   ]
  },
  {
   "cell_type": "code",
   "execution_count": 27,
   "metadata": {},
   "outputs": [
    {
     "data": {
      "image/png": "[encoded data removed]",
      "text/plain": [
       "<Figure size 1317.88x600 with 1 Axes>"
      ]
     },
     "metadata": {},
     "output_type": "display_data"
    }
   ],
   "source": [
    "sns.set_theme(style=\"whitegrid\", palette=\"muted\")\n",
    "plot = sns.catplot(data=pd.DataFrame(results).melt(id_vars=\"Model\"), kind=\"bar\",\n",
    "                   x=\"Model\", y=\"value\", hue=\"variable\", height=6, aspect=2)\n",
    "\n",
    "plot.set_axis_labels(\"Model\", \"Metric Value\")\n",
    "plot.legend.set_title(\"Metric\")\n",
    "plt.title(\"Model Comparison\")\n",
    "plt.show()\n"
   ]
  },
  {
   "cell_type": "markdown",
   "metadata": {},
   "source": [
    "##### <span style=\"color:#39E75F\">Precision-Recall Curve, ROC Curve</span>"
   ]
  },
  {
   "cell_type": "code",
   "execution_count": 28,
   "metadata": {},
   "outputs": [
    {
     "data": {
      "image/png": "[encoded data removed]",
      "text/plain": [
       "<Figure size 1200x600 with 2 Axes>"
      ]
     },
     "metadata": {},
     "output_type": "display_data"
    }
   ],
   "source": [
    "# Initialize the plot\n",
    "plt.figure(figsize=(12, 6))\n",
    "\n",
    "# PR Curve\n",
    "plt.subplot(1, 2, 1)\n",
    "for name, model in models.items():\n",
    "    try:\n",
    "        # Use predict_proba if available, otherwise decision_function\n",
    "        if hasattr(model, \"predict_proba\"):\n",
    "            y_scores = model.predict_proba(X_test)[:, 1]\n",
    "        elif hasattr(model, \"decision_function\"):\n",
    "            y_scores = model.decision_function(X_test)\n",
    "        else:\n",
    "            raise AttributeError(f\"{name} does not support probabilities or decision scores.\")\n",
    "        \n",
    "        precision, recall, _ = precision_recall_curve(y_test, y_scores)\n",
    "        plt.plot(recall, precision, label=name)\n",
    "    except AttributeError as e:\n",
    "        print(e)\n",
    "\n",
    "plt.title(\"Precision-Recall Curve\")\n",
    "plt.xlabel(\"Recall\")\n",
    "plt.ylabel(\"Precision\")\n",
    "plt.legend()\n",
    "\n",
    "# ROC Curve\n",
    "plt.subplot(1, 2, 2)\n",
    "for name, model in models.items():\n",
    "    try:\n",
    "        # Use predict_proba if available, otherwise decision_function\n",
    "        if hasattr(model, \"predict_proba\"):\n",
    "            y_scores = model.predict_proba(X_test)[:, 1]\n",
    "        elif hasattr(model, \"decision_function\"):\n",
    "            y_scores = model.decision_function(X_test)\n",
    "        else:\n",
    "            raise AttributeError(f\"{name} does not support probabilities or decision scores.\")\n",
    "        \n",
    "        fpr, tpr, _ = roc_curve(y_test, y_scores)\n",
    "        plt.plot(fpr, tpr, label=name)\n",
    "    except AttributeError as e:\n",
    "        print(e)\n",
    "\n",
    "plt.title(\"ROC Curve\")\n",
    "plt.xlabel(\"False Positive Rate\")\n",
    "plt.ylabel(\"True Positive Rate\")\n",
    "plt.legend()\n",
    "\n",
    "plt.tight_layout()\n",
    "plt.show()\n",
    "\n",
    "del fpr, tpr, precision, recall, y_scores, plot, name, model, y_pred\n",
    "clear_memory()\n"
   ]
  },
  {
   "cell_type": "markdown",
   "metadata": {},
   "source": [
    "# <span style=\"color:#1477d2\">Outro</span>"
   ]
  },
  {
   "cell_type": "code",
   "execution_count": 29,
   "metadata": {},
   "outputs": [
    {
     "name": "stdout",
     "output_type": "stream",
     "text": [
      "Elapsed time: 3 minutes 16 seconds\n",
      "Processor:    AMD Ryzen 5 3550H with Radeon Vega\n",
      "RAM:          8.00 GB\n",
      "OS:           Windows 10 Pro\n"
     ]
    }
   ],
   "source": [
    "elapsed_time = time.time() - START_TIMER\n",
    "hours, remainder = divmod(elapsed_time, 3600)\n",
    "minutes, seconds = divmod(remainder, 60)\n",
    "\n",
    "if hours > 0:\n",
    "    print(f'Elapsed time: {int(hours)} hours {int(minutes)} minutes {int(seconds)} seconds')\n",
    "elif minutes > 0:\n",
    "    print(f'Elapsed time: {int(minutes)} minutes {int(seconds)} seconds')\n",
    "else:\n",
    "    print(f'Elapsed time: {int(seconds)} seconds')\n",
    "print(f'Processor:    AMD Ryzen 5 3550H with Radeon Vega')\n",
    "print(f'RAM:          8.00 GB')\n",
    "print(f'OS:           Windows 10 Pro')\n",
    "\n",
    "del START_TIMER, elapsed_time, hours, remainder, minutes, seconds, f\n",
    "clear_memory()\n"
   ]
  }
 ],
 "metadata": {
  "kernelspec": {
   "display_name": ".venv",
   "language": "python",
   "name": "python3"
  },
  "language_info": {
   "codemirror_mode": {
    "name": "ipython",
    "version": 3
   },
   "file_extension": ".py",
   "mimetype": "text/x-python",
   "name": "python",
   "nbconvert_exporter": "python",
   "pygments_lexer": "ipython3",
   "version": "3.11.3"
  }
 },
 "nbformat": 4,
 "nbformat_minor": 2
}
